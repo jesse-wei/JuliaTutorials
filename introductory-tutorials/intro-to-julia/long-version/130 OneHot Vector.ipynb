{
 "cells": [
  {
   "attachments": {},
   "cell_type": "markdown",
   "metadata": {},
   "source": [
    "Often used in machine learning, a \"one hot\" vector is a vector of all zeros, except for a single `1` entry.\n",
    "Representing it as a standard vector is memory-inefficient, so it cries out for a special implementation."
   ]
  },
  {
   "cell_type": "code",
   "execution_count": 1,
   "metadata": {},
   "outputs": [],
   "source": [
    "struct OneHotVector <: AbstractVector{Int}\n",
    "    idx::Int\n",
    "    len::Int\n",
    "end"
   ]
  },
  {
   "cell_type": "code",
   "execution_count": 2,
   "metadata": {},
   "outputs": [],
   "source": [
    "Base.size(v::OneHotVector) = (v.len,)"
   ]
  },
  {
   "cell_type": "code",
   "execution_count": 3,
   "metadata": {},
   "outputs": [],
   "source": [
    "Base.getindex(v::OneHotVector, i::Integer) = Int(i == v.idx)"
   ]
  },
  {
   "cell_type": "code",
   "execution_count": 4,
   "metadata": {},
   "outputs": [
    {
     "data": {
      "text/plain": [
       "10-element OneHotVector:\n",
       " 0\n",
       " 0\n",
       " 1\n",
       " 0\n",
       " 0\n",
       " 0\n",
       " 0\n",
       " 0\n",
       " 0\n",
       " 0"
      ]
     },
     "metadata": {},
     "output_type": "display_data"
    }
   ],
   "source": [
    "OneHotVector(3, 10)"
   ]
  },
  {
   "cell_type": "code",
   "execution_count": 5,
   "metadata": {},
   "outputs": [
    {
     "data": {
      "text/plain": [
       "5×5 Matrix{Float64}:\n",
       " 0.246283  0.885136  0.644141   0.69892   0.552753\n",
       " 0.882471  0.163861  0.0152144  0.566827  0.467525\n",
       " 0.119403  0.512757  0.58518    0.960737  0.546342\n",
       " 0.39624   0.597556  0.34581    0.440066  0.784383\n",
       " 0.463755  0.805923  0.712237   0.223521  0.567683"
      ]
     },
     "metadata": {},
     "output_type": "display_data"
    }
   ],
   "source": [
    "A = rand(5,5)"
   ]
  },
  {
   "cell_type": "code",
   "execution_count": 6,
   "metadata": {},
   "outputs": [
    {
     "data": {
      "text/plain": [
       "5-element Vector{Float64}:\n",
       " 0.6441411173376145\n",
       " 0.015214416754660176\n",
       " 0.5851801634417002\n",
       " 0.34580962392962644\n",
       " 0.7122367149700797"
      ]
     },
     "metadata": {},
     "output_type": "display_data"
    }
   ],
   "source": [
    "A * OneHotVector(3, 5)"
   ]
  },
  {
   "cell_type": "code",
   "execution_count": 7,
   "metadata": {},
   "outputs": [
    {
     "data": {
      "text/plain": [
       "5-element Vector{Int64}:\n",
       " 0\n",
       " 0\n",
       " 1\n",
       " 0\n",
       " 0"
      ]
     },
     "metadata": {},
     "output_type": "display_data"
    }
   ],
   "source": [
    "Vector(OneHotVector(3,5))"
   ]
  },
  {
   "cell_type": "code",
   "execution_count": 18,
   "metadata": {},
   "outputs": [],
   "source": [
    "struct OHV <: AbstractVector{Any}\n",
    "    idx::Int\n",
    "    len::Int\n",
    "end"
   ]
  },
  {
   "cell_type": "code",
   "execution_count": 13,
   "metadata": {},
   "outputs": [],
   "source": [
    "\n",
    "Base.size(v::OHV) = (v.len,)"
   ]
  },
  {
   "cell_type": "code",
   "execution_count": 16,
   "metadata": {},
   "outputs": [],
   "source": [
    "\n",
    "Base.getindex(v::OHV, i::Any) = Int(i == v.idx)"
   ]
  },
  {
   "cell_type": "code",
   "execution_count": 17,
   "metadata": {},
   "outputs": [
    {
     "ename": "MethodError",
     "evalue": "MethodError: no method matching size(::OHV)\n\nClosest candidates are:\n  size(::AbstractArray{T, N}, !Matched::Any) where {T, N}\n   @ Base abstractarray.jl:42\n  size(!Matched::Union{LinearAlgebra.Adjoint{T, var\"#s970\"}, LinearAlgebra.Transpose{T, var\"#s970\"}} where {T, var\"#s970\"<:(AbstractVector)})\n   @ LinearAlgebra C:\\Users\\jwei\\AppData\\Local\\Programs\\Julia-1.9.0\\share\\julia\\stdlib\\v1.9\\LinearAlgebra\\src\\adjtrans.jl:296\n  size(!Matched::Union{LinearAlgebra.Adjoint{T, var\"#s970\"}, LinearAlgebra.Transpose{T, var\"#s970\"}} where {T, var\"#s970\"<:(AbstractMatrix)})\n   @ LinearAlgebra C:\\Users\\jwei\\AppData\\Local\\Programs\\Julia-1.9.0\\share\\julia\\stdlib\\v1.9\\LinearAlgebra\\src\\adjtrans.jl:297\n  ...\n",
     "output_type": "error",
     "traceback": [
      "MethodError: no method matching size(::OHV)\n",
      "\n",
      "Closest candidates are:\n",
      "  size(::AbstractArray{T, N}, !Matched::Any) where {T, N}\n",
      "   @ Base abstractarray.jl:42\n",
      "  size(!Matched::Union{LinearAlgebra.Adjoint{T, var\"#s970\"}, LinearAlgebra.Transpose{T, var\"#s970\"}} where {T, var\"#s970\"<:(AbstractVector)})\n",
      "   @ LinearAlgebra C:\\Users\\jwei\\AppData\\Local\\Programs\\Julia-1.9.0\\share\\julia\\stdlib\\v1.9\\LinearAlgebra\\src\\adjtrans.jl:296\n",
      "  size(!Matched::Union{LinearAlgebra.Adjoint{T, var\"#s970\"}, LinearAlgebra.Transpose{T, var\"#s970\"}} where {T, var\"#s970\"<:(AbstractMatrix)})\n",
      "   @ LinearAlgebra C:\\Users\\jwei\\AppData\\Local\\Programs\\Julia-1.9.0\\share\\julia\\stdlib\\v1.9\\LinearAlgebra\\src\\adjtrans.jl:297\n",
      "  ...\n",
      "\n",
      "\n",
      "Stacktrace:\n",
      "  [1] length\n",
      "    @ .\\abstractarray.jl:308 [inlined]\n",
      "  [2] isempty(a::OHV)\n",
      "    @ Base .\\abstractarray.jl:1223\n",
      "  [3] show(io::IOContext{IOBuffer}, #unused#::MIME{Symbol(\"text/plain\")}, X::OHV)\n",
      "    @ Base .\\arrayshow.jl:364\n",
      "  [4] limitstringmime(mime::MIME{Symbol(\"text/plain\")}, x::OHV)\n",
      "    @ VSCodeServer.IJuliaCore c:\\Users\\jwei\\.vscode\\extensions\\julialang.language-julia-1.47.2\\scripts\\packages\\IJuliaCore\\src\\inline.jl:22\n",
      "  [5] display_mimestring(m::MIME{Symbol(\"text/plain\")}, x::OHV)\n",
      "    @ VSCodeServer.IJuliaCore c:\\Users\\jwei\\.vscode\\extensions\\julialang.language-julia-1.47.2\\scripts\\packages\\IJuliaCore\\src\\display.jl:67\n",
      "  [6] display_dict(x::OHV)\n",
      "    @ VSCodeServer.IJuliaCore c:\\Users\\jwei\\.vscode\\extensions\\julialang.language-julia-1.47.2\\scripts\\packages\\IJuliaCore\\src\\display.jl:98\n",
      "  [7] display(#unused#::VSCodeServer.JuliaNotebookInlineDisplay, x::OHV)\n",
      "    @ VSCodeServer c:\\Users\\jwei\\.vscode\\extensions\\julialang.language-julia-1.47.2\\scripts\\packages\\VSCodeServer\\src\\notebookdisplay.jl:32\n",
      "  [8] display(x::Any)\n",
      "    @ Base.Multimedia .\\multimedia.jl:340\n",
      "  [9] #invokelatest#2\n",
      "    @ .\\essentials.jl:816 [inlined]\n",
      " [10] invokelatest\n",
      "    @ .\\essentials.jl:813 [inlined]\n",
      " [11] (::VSCodeServer.var\"#198#199\"{VSCodeServer.NotebookRunCellArguments, String})()\n",
      "    @ VSCodeServer c:\\Users\\jwei\\.vscode\\extensions\\julialang.language-julia-1.47.2\\scripts\\packages\\VSCodeServer\\src\\serve_notebook.jl:48\n",
      " [12] withpath(f::VSCodeServer.var\"#198#199\"{VSCodeServer.NotebookRunCellArguments, String}, path::String)\n",
      "    @ VSCodeServer c:\\Users\\jwei\\.vscode\\extensions\\julialang.language-julia-1.47.2\\scripts\\packages\\VSCodeServer\\src\\repl.jl:249\n",
      " [13] notebook_runcell_request(conn::VSCodeServer.JSONRPC.JSONRPCEndpoint{Base.PipeEndpoint, Base.PipeEndpoint}, params::VSCodeServer.NotebookRunCellArguments)\n",
      "    @ VSCodeServer c:\\Users\\jwei\\.vscode\\extensions\\julialang.language-julia-1.47.2\\scripts\\packages\\VSCodeServer\\src\\serve_notebook.jl:13\n",
      " [14] dispatch_msg(x::VSCodeServer.JSONRPC.JSONRPCEndpoint{Base.PipeEndpoint, Base.PipeEndpoint}, dispatcher::VSCodeServer.JSONRPC.MsgDispatcher, msg::Dict{String, Any})\n",
      "    @ VSCodeServer.JSONRPC c:\\Users\\jwei\\.vscode\\extensions\\julialang.language-julia-1.47.2\\scripts\\packages\\JSONRPC\\src\\typed.jl:67\n",
      " [15] serve_notebook(pipename::String, outputchannel_logger::Base.CoreLogging.SimpleLogger; crashreporting_pipename::String)\n",
      "    @ VSCodeServer c:\\Users\\jwei\\.vscode\\extensions\\julialang.language-julia-1.47.2\\scripts\\packages\\VSCodeServer\\src\\serve_notebook.jl:139\n",
      " [16] top-level scope\n",
      "    @ c:\\Users\\jwei\\.vscode\\extensions\\julialang.language-julia-1.47.2\\scripts\\notebook\\notebook.jl:32"
     ]
    }
   ],
   "source": [
    "OHV(3,10)"
   ]
  },
  {
   "cell_type": "code",
   "execution_count": null,
   "metadata": {},
   "outputs": [],
   "source": []
  }
 ],
 "metadata": {
  "kernelspec": {
   "display_name": "Julia 1.9.0",
   "language": "julia",
   "name": "julia-1.9"
  },
  "language_info": {
   "file_extension": ".jl",
   "mimetype": "application/julia",
   "name": "julia",
   "version": "1.9.0"
  }
 },
 "nbformat": 4,
 "nbformat_minor": 2
}
