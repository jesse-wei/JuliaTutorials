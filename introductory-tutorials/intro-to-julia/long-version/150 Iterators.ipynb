{
 "cells": [
  {
   "attachments": {},
   "cell_type": "markdown",
   "metadata": {},
   "source": [
    "# Iterators"
   ]
  },
  {
   "attachments": {},
   "cell_type": "markdown",
   "metadata": {},
   "source": [
    "`for` loops \"lower\" to `while` loops plus calls to the `iterate` function:\n",
    "\n",
    "```jl\n",
    "for i in iter   # or  \"for i = iter\" or \"for i ∈ iter\"\n",
    "    # body\n",
    "end\n",
    "```\n",
    "\n",
    "internally works the same as:"
   ]
  },
  {
   "attachments": {},
   "cell_type": "markdown",
   "metadata": {},
   "source": [
    "```jl\n",
    "next = iterate(iter)\n",
    "while next !== nothing\n",
    "    (i, state) = next\n",
    "    # body\n",
    "    next = iterate(iter, state)\n",
    "end\n",
    "```\n",
    "\n",
    "The same applies to comprehensions and generators."
   ]
  },
  {
   "attachments": {},
   "cell_type": "markdown",
   "metadata": {},
   "source": [
    "Note `nothing` is a singleton value (the only value of its type `Nothing`) used by convention when there is no value to return (a bit like `void` in C). For example "
   ]
  },
  {
   "cell_type": "code",
   "execution_count": null,
   "metadata": {},
   "outputs": [],
   "source": [
    "typeof(print(\"hello\"))"
   ]
  },
  {
   "cell_type": "code",
   "execution_count": null,
   "metadata": {},
   "outputs": [],
   "source": [
    "A = ['a','b','c'];"
   ]
  },
  {
   "cell_type": "code",
   "execution_count": null,
   "metadata": {},
   "outputs": [],
   "source": [
    "iterate(A)"
   ]
  },
  {
   "cell_type": "code",
   "execution_count": null,
   "metadata": {},
   "outputs": [],
   "source": [
    "iterate(A, 2)"
   ]
  },
  {
   "cell_type": "code",
   "execution_count": null,
   "metadata": {},
   "outputs": [],
   "source": [
    "iterate(A, 3)"
   ]
  },
  {
   "cell_type": "code",
   "execution_count": null,
   "metadata": {},
   "outputs": [],
   "source": [
    "iterate(A, 4)"
   ]
  },
  {
   "attachments": {},
   "cell_type": "markdown",
   "metadata": {},
   "source": [
    "Iteration is also used by \"destructuring\" assignment:"
   ]
  },
  {
   "cell_type": "code",
   "execution_count": null,
   "metadata": {},
   "outputs": [],
   "source": [
    "x, y = A"
   ]
  },
  {
   "cell_type": "code",
   "execution_count": null,
   "metadata": {},
   "outputs": [],
   "source": [
    "x"
   ]
  },
  {
   "cell_type": "code",
   "execution_count": null,
   "metadata": {},
   "outputs": [],
   "source": [
    "y"
   ]
  },
  {
   "attachments": {},
   "cell_type": "markdown",
   "metadata": {},
   "source": [
    "Yet another user of this \"iteration protocol\" is so-called argument \"splatting\":"
   ]
  },
  {
   "cell_type": "code",
   "execution_count": null,
   "metadata": {},
   "outputs": [],
   "source": [
    "string(A)"
   ]
  },
  {
   "cell_type": "code",
   "execution_count": null,
   "metadata": {},
   "outputs": [],
   "source": [
    "string('a','b','c')"
   ]
  },
  {
   "cell_type": "code",
   "execution_count": null,
   "metadata": {},
   "outputs": [],
   "source": [
    "string(A...)"
   ]
  },
  {
   "attachments": {},
   "cell_type": "markdown",
   "metadata": {},
   "source": [
    "## Iteration utilities"
   ]
  },
  {
   "attachments": {},
   "cell_type": "markdown",
   "metadata": {},
   "source": [
    "`collect` gives you all elements of an iterator as an array.\n",
    "Comprehensions are actually equivalent to calling `collect` on a generator."
   ]
  },
  {
   "cell_type": "code",
   "execution_count": null,
   "metadata": {},
   "outputs": [],
   "source": [
    "collect(pairs(A))"
   ]
  },
  {
   "cell_type": "code",
   "execution_count": null,
   "metadata": {},
   "outputs": [],
   "source": [
    "collect(zip(100:102,A))"
   ]
  },
  {
   "attachments": {},
   "cell_type": "markdown",
   "metadata": {},
   "source": [
    "Some other favorites to experiment with. These are in the built-in `Iterators` module:\n",
    "- `enumerate`\n",
    "- `rest`\n",
    "- `take`\n",
    "- `drop`\n",
    "- `product`\n",
    "- `flatten`\n",
    "- `partition`"
   ]
  },
  {
   "attachments": {},
   "cell_type": "markdown",
   "metadata": {},
   "source": [
    "Some iterators are infinite!\n",
    "- `countfrom`\n",
    "- `repeated`\n",
    "- `cycle`"
   ]
  },
  {
   "cell_type": "code",
   "execution_count": null,
   "metadata": {},
   "outputs": [],
   "source": [
    "I = zip(Iterators.cycle(0:1), Iterators.flatten([[2,3],[4,5]]))"
   ]
  },
  {
   "cell_type": "code",
   "execution_count": null,
   "metadata": {},
   "outputs": [],
   "source": [
    "collect(I)"
   ]
  },
  {
   "cell_type": "code",
   "execution_count": null,
   "metadata": {},
   "outputs": [],
   "source": [
    "collect(Iterators.product(I,A))"
   ]
  },
  {
   "cell_type": "code",
   "execution_count": null,
   "metadata": {},
   "outputs": [],
   "source": [
    "string(I...)"
   ]
  },
  {
   "attachments": {},
   "cell_type": "markdown",
   "metadata": {},
   "source": [
    "## Defining iterators"
   ]
  },
  {
   "cell_type": "code",
   "execution_count": null,
   "metadata": {},
   "outputs": [],
   "source": [
    "struct SimpleRange\n",
    "    lo::Int\n",
    "    hi::Int\n",
    "end"
   ]
  },
  {
   "cell_type": "code",
   "execution_count": null,
   "metadata": {},
   "outputs": [],
   "source": [
    "Base.iterate(r::SimpleRange, state = r.lo) = state > r.hi ? nothing : (state, state+1)"
   ]
  },
  {
   "cell_type": "code",
   "execution_count": null,
   "metadata": {},
   "outputs": [],
   "source": [
    "Base.length(r::SimpleRange) = r.hi-r.lo+1"
   ]
  },
  {
   "cell_type": "code",
   "execution_count": null,
   "metadata": {},
   "outputs": [],
   "source": [
    "collect(SimpleRange(2,8))"
   ]
  },
  {
   "attachments": {},
   "cell_type": "markdown",
   "metadata": {},
   "source": [
    "## Iterator traits"
   ]
  },
  {
   "attachments": {},
   "cell_type": "markdown",
   "metadata": {},
   "source": [
    "For many algorithms, it's useful to know certain properties of an iterator up front.\n",
    "\n",
    "The most useful is whether an iterator has a fixed, known length."
   ]
  },
  {
   "cell_type": "code",
   "execution_count": null,
   "metadata": {},
   "outputs": [],
   "source": [
    "Base.IteratorSize([1])"
   ]
  },
  {
   "cell_type": "code",
   "execution_count": null,
   "metadata": {},
   "outputs": [],
   "source": [
    "Base.IteratorSize(Iterators.repeated(1))"
   ]
  },
  {
   "cell_type": "code",
   "execution_count": null,
   "metadata": {},
   "outputs": [],
   "source": [
    "Base.IteratorSize(eachline(open(\"/dev/null\")))"
   ]
  },
  {
   "attachments": {},
   "cell_type": "markdown",
   "metadata": {},
   "source": [
    "## Exercise\n",
    "\n",
    "Define an iterator giving the first N fibonacci numbers."
   ]
  },
  {
   "cell_type": "code",
   "execution_count": null,
   "metadata": {},
   "outputs": [],
   "source": [
    "struct FibN\n",
    "    N::Int\n",
    "end\n",
    "\n",
    "Base.iterate(r::FibN, state = (n=1, f1=0, f2=1)) = state.n > r.N ? nothing : (state.f1+state.f2, (n=state.n+1, f1=state.f2, f2=state.f1+state.f2))\n",
    "Base.length(r::FibN) = r.N\n",
    "\n",
    "collect(FibN(10))\n"
   ]
  },
  {
   "attachments": {},
   "cell_type": "markdown",
   "metadata": {},
   "source": [
    "## Index iterators"
   ]
  },
  {
   "cell_type": "code",
   "execution_count": null,
   "metadata": {},
   "outputs": [],
   "source": [
    "A = rand(3,5)"
   ]
  },
  {
   "cell_type": "code",
   "execution_count": null,
   "metadata": {},
   "outputs": [],
   "source": [
    "eachindex(A)"
   ]
  },
  {
   "cell_type": "code",
   "execution_count": null,
   "metadata": {},
   "outputs": [],
   "source": [
    "keys(A)"
   ]
  },
  {
   "cell_type": "code",
   "execution_count": null,
   "metadata": {},
   "outputs": [],
   "source": [
    "Av = view(A, [1,3], [1,2,5])"
   ]
  },
  {
   "cell_type": "code",
   "execution_count": null,
   "metadata": {},
   "outputs": [],
   "source": [
    "A[[1,3],[1,2,5]]"
   ]
  },
  {
   "cell_type": "code",
   "execution_count": null,
   "metadata": {},
   "outputs": [],
   "source": [
    "eachindex(Av)"
   ]
  },
  {
   "attachments": {},
   "cell_type": "markdown",
   "metadata": {},
   "source": [
    "### Example: $3\\times 3\\times \\dots \\times3$ boxcar filter (from a blog post by Tim Holy)"
   ]
  },
  {
   "cell_type": "code",
   "execution_count": null,
   "metadata": {},
   "outputs": [],
   "source": [
    "function boxcar3(A::AbstractArray)\n",
    "    out = similar(A)\n",
    "    R = CartesianIndices(size(A))\n",
    "    I1, Iend = first(R), last(R)\n",
    "    for I in R\n",
    "        n, s = 0, zero(eltype(out))\n",
    "        for J in CartesianIndices(map(:, max(I1, I-I1).I, min(Iend, I+I1).I))\n",
    "            s += A[J]\n",
    "            n += 1\n",
    "        end\n",
    "        out[I] = s/n\n",
    "    end\n",
    "    out\n",
    "end"
   ]
  },
  {
   "cell_type": "code",
   "execution_count": null,
   "metadata": {},
   "outputs": [],
   "source": [
    "using Images"
   ]
  },
  {
   "cell_type": "code",
   "execution_count": null,
   "metadata": {},
   "outputs": [],
   "source": [
    "A = rand(256,256);"
   ]
  },
  {
   "cell_type": "code",
   "execution_count": null,
   "metadata": {},
   "outputs": [],
   "source": [
    "Gray.(A)"
   ]
  },
  {
   "cell_type": "code",
   "execution_count": null,
   "metadata": {},
   "outputs": [],
   "source": [
    "Gray.(boxcar3(A))"
   ]
  },
  {
   "cell_type": "code",
   "execution_count": null,
   "metadata": {},
   "outputs": [],
   "source": [
    "function sumalongdims!(B, A)\n",
    "    # It's assumed that B has size 1 along any dimension that we're summing\n",
    "    fill!(B, 0)\n",
    "    Bmax = CartesianIndex(size(B))\n",
    "    for I in CartesianIndices(size(A))\n",
    "        B[min(Bmax,I)] += A[I]\n",
    "    end\n",
    "    B\n",
    "end"
   ]
  },
  {
   "cell_type": "code",
   "execution_count": null,
   "metadata": {},
   "outputs": [],
   "source": [
    "B = zeros(1, 256)"
   ]
  },
  {
   "cell_type": "code",
   "execution_count": null,
   "metadata": {},
   "outputs": [],
   "source": [
    "sumalongdims!(B, A)"
   ]
  },
  {
   "cell_type": "code",
   "execution_count": null,
   "metadata": {},
   "outputs": [],
   "source": [
    "reduce(+,A,dims=(1,))"
   ]
  },
  {
   "attachments": {},
   "cell_type": "markdown",
   "metadata": {},
   "source": [
    "`CartesianIndices` and other \"N-d\" iterators have a shape that propagates through generators."
   ]
  },
  {
   "cell_type": "code",
   "execution_count": null,
   "metadata": {},
   "outputs": [],
   "source": [
    "[1 for i in CartesianIndices((2,3))]"
   ]
  },
  {
   "cell_type": "code",
   "execution_count": null,
   "metadata": {},
   "outputs": [],
   "source": [
    "B = rand(5,5)"
   ]
  },
  {
   "cell_type": "code",
   "execution_count": null,
   "metadata": {},
   "outputs": [],
   "source": [
    "view(B,CartesianIndices((2,3)))"
   ]
  },
  {
   "attachments": {},
   "cell_type": "markdown",
   "metadata": {},
   "source": [
    "## Exercise: CartesianIndex life!\n",
    "\n",
    "- Write a function `neighborhood(A::Array, I::CartesianIndex)` that returns a view of the 3x3 neighborhood around a location\n",
    "- Write a function `liferule(A, I)` that implements the evolution rule of Conway's life cellular automaton:\n",
    "  - 2 live neighbors $\\rightarrow$ stay the same\n",
    "  - 3 live neighbors $\\rightarrow$ 1\n",
    "  - otherwise $\\rightarrow$ 0\n",
    "- Write a function `life(A)` that maps A to the next life step using these"
   ]
  },
  {
   "attachments": {},
   "cell_type": "markdown",
   "metadata": {},
   "source": [
    "Some famous initial conditions:"
   ]
  },
  {
   "cell_type": "code",
   "execution_count": 5,
   "metadata": {},
   "outputs": [],
   "source": [
    "A = fill(0, 128,128);"
   ]
  },
  {
   "cell_type": "code",
   "execution_count": 6,
   "metadata": {},
   "outputs": [
    {
     "data": {
      "text/plain": [
       "3×3 Matrix{Int64}:\n",
       " 1  1  0\n",
       " 0  1  1\n",
       " 0  1  0"
      ]
     },
     "metadata": {},
     "output_type": "display_data"
    }
   ],
   "source": [
    "A[61:63,61:63] = [1 1 0\n",
    "                  0 1 1\n",
    "                  0 1 0]"
   ]
  },
  {
   "attachments": {},
   "cell_type": "markdown",
   "metadata": {},
   "source": [
    "### `neighborhood(A::Array, I::CartesianIndex)`"
   ]
  },
  {
   "cell_type": "code",
   "execution_count": 1,
   "metadata": {},
   "outputs": [
    {
     "data": {
      "text/plain": [
       "neighborhood"
      ]
     },
     "metadata": {},
     "output_type": "display_data"
    }
   ],
   "source": [
    "\"\"\"\n",
    "Returns a view of the 3x3 neighborhood of `A` around the specified `CartesianIndex` `I`.\n",
    "\n",
    "Validates `I`.\n",
    "\n",
    "If the CartesianIndex is at the edge of `A` (i.e. `x` and/or `y` are equal to 1 or A's width/height), then the neighborhood will\n",
    "be truncated.\n",
    "\"\"\"\n",
    "function neighborhood(A::Array, I::CartesianIndex)\n",
    "    A_dim = size(A)\n",
    "    x = I[1]\n",
    "    y = I[2]\n",
    "\n",
    "    @assert 1 <= x <= A_dim[1] && 1 <= y <= A_dim[2]\n",
    "\n",
    "    x_bounds = [x-1, x, x+1]\n",
    "    y_bounds = [y-1, y, y+1]\n",
    "    \n",
    "    if x == 1\n",
    "        popfirst!(x_bounds)\n",
    "    elseif x == A_dim[1]\n",
    "        pop!(x_bounds)\n",
    "    end\n",
    "\n",
    "    if y == 1\n",
    "        popfirst!(y_bounds)\n",
    "    elseif y == A_dim[2]\n",
    "        pop!(y_bounds)\n",
    "    end\n",
    "\n",
    "    view(A, x_bounds, y_bounds)\n",
    "end"
   ]
  },
  {
   "cell_type": "code",
   "execution_count": 2,
   "metadata": {},
   "outputs": [
    {
     "data": {
      "text/plain": [
       "5×5 Matrix{Float64}:\n",
       " 0.804261   0.472355   0.645696  0.980488  0.455759\n",
       " 0.185827   0.946262   0.190053  0.852403  0.875053\n",
       " 0.0765129  0.336457   0.602351  0.56361   0.877641\n",
       " 0.095608   0.747714   0.970676  0.174381  0.726005\n",
       " 0.66566    0.0484148  0.735883  0.285768  0.289515"
      ]
     },
     "metadata": {},
     "output_type": "display_data"
    },
    {
     "data": {
      "text/plain": [
       "3×3 view(::Matrix{Float64}, [2, 3, 4], [2, 3, 4]) with eltype Float64:\n",
       " 0.946262  0.190053  0.852403\n",
       " 0.336457  0.602351  0.56361\n",
       " 0.747714  0.970676  0.174381"
      ]
     },
     "metadata": {},
     "output_type": "display_data"
    }
   ],
   "source": [
    "B = rand(5, 5)\n",
    "display(B)\n",
    "neighborhood(B, CartesianIndex(3,3))"
   ]
  },
  {
   "attachments": {},
   "cell_type": "markdown",
   "metadata": {},
   "source": [
    "### `life(A::Array, I::CartesianIndex)`"
   ]
  },
  {
   "cell_type": "code",
   "execution_count": 7,
   "metadata": {},
   "outputs": [
    {
     "data": {
      "text/plain": [
       "life (generic function with 1 method)"
      ]
     },
     "metadata": {},
     "output_type": "display_data"
    }
   ],
   "source": [
    "count_num_ones = A::Array -> count(i->(i == 1), A)\n",
    "\n",
    "function life(A::Array)\n",
    "    mat = copy(A)\n",
    "    for cartesian_idx in keys(A)\n",
    "        num_ones = count_num_ones(neighborhood(A, cartesian_idx))\n",
    "        if A[cartesian_idx] == 1\n",
    "            num_ones -= 1\n",
    "        end\n",
    "\n",
    "        if num_ones == 2\n",
    "            nothing\n",
    "        elseif num_ones == 3\n",
    "            mat[cartesian_idx] = 1\n",
    "        else\n",
    "            mat[cartesian_idx] = 0\n",
    "        end\n",
    "    end\n",
    "    mat\n",
    "end"
   ]
  },
  {
   "cell_type": "code",
   "execution_count": 8,
   "metadata": {},
   "outputs": [
    {
     "ename": "MethodError",
     "evalue": "MethodError: no method matching (::var\"#15#17\")(::SubArray{Int64, 2, Matrix{Int64}, Tuple{Vector{Int64}, Vector{Int64}}, false})\n\nClosest candidates are:\n  (::var\"#15#17\")(!Matched::Array)\n   @ Main c:\\Users\\jwei\\Documents\\GitHub\\Julia\\JuliaTutorials\\introductory-tutorials\\intro-to-julia\\long-version\\150 Iterators.ipynb:1\n",
     "output_type": "error",
     "traceback": [
      "MethodError: no method matching (::var\"#15#17\")(::SubArray{Int64, 2, Matrix{Int64}, Tuple{Vector{Int64}, Vector{Int64}}, false})\n",
      "\n",
      "Closest candidates are:\n",
      "  (::var\"#15#17\")(!Matched::Array)\n",
      "   @ Main c:\\Users\\jwei\\Documents\\GitHub\\Julia\\JuliaTutorials\\introductory-tutorials\\intro-to-julia\\long-version\\150 Iterators.ipynb:1\n",
      "\n",
      "\n",
      "Stacktrace:\n",
      " [1] life(A::Matrix{Int64})\n",
      "   @ Main c:\\Users\\jwei\\Documents\\GitHub\\Julia\\JuliaTutorials\\introductory-tutorials\\intro-to-julia\\long-version\\150 Iterators.ipynb:6\n",
      " [2] top-level scope\n",
      "   @ c:\\Users\\jwei\\Documents\\GitHub\\Julia\\JuliaTutorials\\introductory-tutorials\\intro-to-julia\\long-version\\150 Iterators.ipynb:1"
     ]
    }
   ],
   "source": [
    "A = life(A)\n",
    "# `repeat` can be used to get chunky pixels to make the output easier to see\n",
    "Gray.(repeat(A,inner=(4,4)))"
   ]
  },
  {
   "cell_type": "code",
   "execution_count": null,
   "metadata": {},
   "outputs": [],
   "source": []
  }
 ],
 "metadata": {
  "celltoolbar": "Raw Cell Format",
  "kernelspec": {
   "display_name": "Julia 1.9.0",
   "language": "julia",
   "name": "julia-1.9"
  },
  "language_info": {
   "file_extension": ".jl",
   "mimetype": "application/julia",
   "name": "julia",
   "version": "1.9.0"
  }
 },
 "nbformat": 4,
 "nbformat_minor": 2
}
